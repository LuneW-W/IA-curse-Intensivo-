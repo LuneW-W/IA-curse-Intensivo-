{
 "cells": [
  {
   "cell_type": "markdown",
   "id": "911f8c19",
   "metadata": {},
   "source": [
    "# intro numpy"
   ]
  },
  {
   "cell_type": "code",
   "execution_count": null,
   "id": "4245f9b0",
   "metadata": {},
   "outputs": [],
   "source": [
    "import numpy as np"
   ]
  },
  {
   "cell_type": "markdown",
   "id": "89bf442b",
   "metadata": {},
   "source": [
    "# arrays\n",
    "\n",
    "Es una estructura de datos"
   ]
  },
  {
   "cell_type": "code",
   "execution_count": null,
   "id": "985e1ae4",
   "metadata": {},
   "outputs": [],
   "source": [
    "a = np.zeros((3,5))\n",
    "print(a)"
   ]
  }
 ],
 "metadata": {
  "kernelspec": {
   "display_name": "Entorno",
   "language": "python",
   "name": "python3"
  },
  "language_info": {
   "codemirror_mode": {
    "name": "ipython",
    "version": 3
   },
   "file_extension": ".py",
   "mimetype": "text/x-python",
   "name": "python",
   "nbconvert_exporter": "python",
   "pygments_lexer": "ipython3",
   "version": "3.13.9"
  }
 },
 "nbformat": 4,
 "nbformat_minor": 5
}
